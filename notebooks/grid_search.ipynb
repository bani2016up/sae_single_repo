{
 "cells": [
  {
   "cell_type": "code",
   "id": "initial_id",
   "metadata": {
    "collapsed": true,
    "ExecuteTime": {
     "end_time": "2025-05-04T15:21:43.039675Z",
     "start_time": "2025-05-04T15:21:43.020016Z"
    }
   },
   "source": [
    "import pandas as pd\n",
    "\n",
    "from sentence_transformers import SentenceTransformer\n",
    "from tqdm.auto import tqdm\n",
    "\n",
    "from backend.AI_services.ai_services.vector_storage import VectorStorage\n",
    "from backend.AI_services.ai_services.models.fact_checker import FactCheckerPipeline\n",
    "from backend.AI_services.ai_services.preprocessing import get_default_coref_pipeline\n",
    "from backend.AI_services.ai_services.utils import disable_fastcoref_progress_bar\n",
    "from metric import *\n",
    "\n",
    "tqdm.pandas()\n",
    "disable_fastcoref_progress_bar()"
   ],
   "outputs": [],
   "execution_count": 3
  },
  {
   "metadata": {
    "ExecuteTime": {
     "end_time": "2025-05-04T15:22:07.774423Z",
     "start_time": "2025-05-04T15:21:43.717789Z"
    }
   },
   "cell_type": "code",
   "source": "model = SentenceTransformer('intfloat/e5-base-v2', device=\"cpu\")",
   "id": "e5c6d41e840b289a",
   "outputs": [
    {
     "name": "stderr",
     "output_type": "stream",
     "text": [
      "05/04/2025 18:21:43 - INFO - \t Load pretrained SentenceTransformer: intfloat/e5-base-v2\n"
     ]
    },
    {
     "data": {
      "text/plain": [
       "model.safetensors:  34%|###3      | 147M/438M [00:00<?, ?B/s]"
      ],
      "application/vnd.jupyter.widget-view+json": {
       "version_major": 2,
       "version_minor": 0,
       "model_id": "1f51ad6fd9e64f12a909f1c026325c24"
      }
     },
     "metadata": {},
     "output_type": "display_data"
    },
    {
     "data": {
      "text/plain": [
       "tokenizer_config.json:   0%|          | 0.00/314 [00:00<?, ?B/s]"
      ],
      "application/vnd.jupyter.widget-view+json": {
       "version_major": 2,
       "version_minor": 0,
       "model_id": "6f02fbe1c3824c39baf18fc3575dc290"
      }
     },
     "metadata": {},
     "output_type": "display_data"
    },
    {
     "data": {
      "text/plain": [
       "vocab.txt:   0%|          | 0.00/232k [00:00<?, ?B/s]"
      ],
      "application/vnd.jupyter.widget-view+json": {
       "version_major": 2,
       "version_minor": 0,
       "model_id": "e19880c5d07d476e922cfbf82e081a78"
      }
     },
     "metadata": {},
     "output_type": "display_data"
    },
    {
     "data": {
      "text/plain": [
       "tokenizer.json:   0%|          | 0.00/711k [00:00<?, ?B/s]"
      ],
      "application/vnd.jupyter.widget-view+json": {
       "version_major": 2,
       "version_minor": 0,
       "model_id": "30e5d57b57e54702ab67e0df59755cbb"
      }
     },
     "metadata": {},
     "output_type": "display_data"
    },
    {
     "data": {
      "text/plain": [
       "special_tokens_map.json:   0%|          | 0.00/125 [00:00<?, ?B/s]"
      ],
      "application/vnd.jupyter.widget-view+json": {
       "version_major": 2,
       "version_minor": 0,
       "model_id": "e9b97a7c457b4e1584613d35121f291b"
      }
     },
     "metadata": {},
     "output_type": "display_data"
    },
    {
     "data": {
      "text/plain": [
       "config.json:   0%|          | 0.00/200 [00:00<?, ?B/s]"
      ],
      "application/vnd.jupyter.widget-view+json": {
       "version_major": 2,
       "version_minor": 0,
       "model_id": "5a9284cae838465886d5c65229e6e2dc"
      }
     },
     "metadata": {},
     "output_type": "display_data"
    }
   ],
   "execution_count": 4
  },
  {
   "metadata": {
    "ExecuteTime": {
     "end_time": "2025-05-04T15:22:10.043632Z",
     "start_time": "2025-05-04T15:22:10.027690Z"
    }
   },
   "cell_type": "code",
   "source": [
    "storage = VectorStorage(\n",
    "    dim=model.get_sentence_embedding_dimension(),\n",
    "    embedder=model.encode,\n",
    ")\n",
    "storage.load(\"../data/rd2indexflat\")"
   ],
   "id": "9b6996ef8297cee6",
   "outputs": [],
   "execution_count": 5
  },
  {
   "metadata": {
    "ExecuteTime": {
     "end_time": "2025-05-04T15:22:13.673397Z",
     "start_time": "2025-05-04T15:22:11.204828Z"
    }
   },
   "cell_type": "code",
   "source": "coref_pipeline = get_default_coref_pipeline(device=\"cpu\")",
   "id": "c5f4aeb850a07738",
   "outputs": [],
   "execution_count": 6
  },
  {
   "metadata": {
    "ExecuteTime": {
     "end_time": "2025-05-04T15:22:14.970458Z",
     "start_time": "2025-05-04T15:22:14.278746Z"
    }
   },
   "cell_type": "code",
   "source": [
    "fact_checker = FactCheckerPipeline(\n",
    "    vector_storage=storage,\n",
    "    processing_pipeline=coref_pipeline,\n",
    "    processing_device=\"cpu\",\n",
    "    device=\"cpu\",\n",
    "    get_explanation=False,\n",
    "    storage_search_k=5,\n",
    "    storage_search_threshold=1.5,\n",
    "    automatic_contextualisation=True\n",
    ")"
   ],
   "id": "477a1be6156a3e7f",
   "outputs": [],
   "execution_count": 7
  },
  {
   "metadata": {
    "ExecuteTime": {
     "end_time": "2025-05-04T15:22:16.170640Z",
     "start_time": "2025-05-04T15:22:16.151007Z"
    }
   },
   "cell_type": "code",
   "source": "data = pd.read_csv(\"../data/test.csv\")",
   "id": "40fed4847ebef8b5",
   "outputs": [],
   "execution_count": 8
  },
  {
   "metadata": {
    "ExecuteTime": {
     "end_time": "2025-05-04T15:22:16.792567Z",
     "start_time": "2025-05-04T15:22:16.787556Z"
    }
   },
   "cell_type": "code",
   "source": "data = data.fillna(\"[]\")",
   "id": "c24d3b090bd1914a",
   "outputs": [],
   "execution_count": 9
  },
  {
   "metadata": {
    "ExecuteTime": {
     "end_time": "2025-05-04T15:22:23.458395Z",
     "start_time": "2025-05-04T15:22:17.303904Z"
    }
   },
   "cell_type": "code",
   "source": [
    "preds = pd.DataFrame(\n",
    "    columns=[\"text\", \"is_error_in_paragraphs\", \"errors_in_sentences\"]\n",
    ")\n",
    "\n",
    "for i, row in tqdm(data.iterrows(), total=len(data)):\n",
    "    text = row[\"text\"]\n",
    "    predictions = fact_checker.evaluate_text(text.lower().strip())\n",
    "    preds.loc[i] = [text, len(predictions) != 0, str([s.fact.index for s in predictions])]"
   ],
   "id": "d6f927e4cf23fa53",
   "outputs": [
    {
     "data": {
      "text/plain": [
       "  0%|          | 0/50 [00:00<?, ?it/s]"
      ],
      "application/vnd.jupyter.widget-view+json": {
       "version_major": 2,
       "version_minor": 0,
       "model_id": "d11a06af78f94d389afbd721021b89e2"
      }
     },
     "metadata": {},
     "output_type": "display_data"
    },
    {
     "ename": "IndexError",
     "evalue": "list index out of range",
     "output_type": "error",
     "traceback": [
      "\u001B[0;31m---------------------------------------------------------------------------\u001B[0m",
      "\u001B[0;31mIndexError\u001B[0m                                Traceback (most recent call last)",
      "Cell \u001B[0;32mIn[10], line 7\u001B[0m\n\u001B[1;32m      5\u001B[0m \u001B[38;5;28;01mfor\u001B[39;00m i, row \u001B[38;5;129;01min\u001B[39;00m tqdm(data\u001B[38;5;241m.\u001B[39miterrows(), total\u001B[38;5;241m=\u001B[39m\u001B[38;5;28mlen\u001B[39m(data)):\n\u001B[1;32m      6\u001B[0m     text \u001B[38;5;241m=\u001B[39m row[\u001B[38;5;124m\"\u001B[39m\u001B[38;5;124mtext\u001B[39m\u001B[38;5;124m\"\u001B[39m]\n\u001B[0;32m----> 7\u001B[0m     predictions \u001B[38;5;241m=\u001B[39m \u001B[43mfact_checker\u001B[49m\u001B[38;5;241;43m.\u001B[39;49m\u001B[43mevaluate_text\u001B[49m\u001B[43m(\u001B[49m\u001B[43mtext\u001B[49m\u001B[38;5;241;43m.\u001B[39;49m\u001B[43mlower\u001B[49m\u001B[43m(\u001B[49m\u001B[43m)\u001B[49m\u001B[38;5;241;43m.\u001B[39;49m\u001B[43mstrip\u001B[49m\u001B[43m(\u001B[49m\u001B[43m)\u001B[49m\u001B[43m)\u001B[49m\n\u001B[1;32m      8\u001B[0m     preds\u001B[38;5;241m.\u001B[39mloc[i] \u001B[38;5;241m=\u001B[39m [text, \u001B[38;5;28mlen\u001B[39m(predictions) \u001B[38;5;241m!=\u001B[39m \u001B[38;5;241m0\u001B[39m, \u001B[38;5;28mstr\u001B[39m([s\u001B[38;5;241m.\u001B[39mfact\u001B[38;5;241m.\u001B[39mindex \u001B[38;5;28;01mfor\u001B[39;00m s \u001B[38;5;129;01min\u001B[39;00m predictions])]\n",
      "File \u001B[0;32m~/Documents/projects/sae_single_repo/backend/AI_services/ai_services/interfaces.py:33\u001B[0m, in \u001B[0;36m_CatchKIMeta._catch_keyboard_interrupt.<locals>.wrapper\u001B[0;34m(*args, **kwargs)\u001B[0m\n\u001B[1;32m     30\u001B[0m \u001B[38;5;129m@functools\u001B[39m\u001B[38;5;241m.\u001B[39mwraps(func)\n\u001B[1;32m     31\u001B[0m \u001B[38;5;28;01mdef\u001B[39;00m \u001B[38;5;21mwrapper\u001B[39m(\u001B[38;5;241m*\u001B[39margs, \u001B[38;5;241m*\u001B[39m\u001B[38;5;241m*\u001B[39mkwargs):\n\u001B[1;32m     32\u001B[0m     \u001B[38;5;28;01mtry\u001B[39;00m:\n\u001B[0;32m---> 33\u001B[0m         \u001B[38;5;28;01mreturn\u001B[39;00m \u001B[43mfunc\u001B[49m\u001B[43m(\u001B[49m\u001B[38;5;241;43m*\u001B[39;49m\u001B[43margs\u001B[49m\u001B[43m,\u001B[49m\u001B[43m \u001B[49m\u001B[38;5;241;43m*\u001B[39;49m\u001B[38;5;241;43m*\u001B[39;49m\u001B[43mkwargs\u001B[49m\u001B[43m)\u001B[49m\n\u001B[1;32m     34\u001B[0m     \u001B[38;5;28;01mexcept\u001B[39;00m \u001B[38;5;167;01mKeyboardInterrupt\u001B[39;00m:\n\u001B[1;32m     35\u001B[0m         \u001B[38;5;28mprint\u001B[39m(\u001B[38;5;124mf\u001B[39m\u001B[38;5;124m\"\u001B[39m\u001B[38;5;124mInterrupted in \u001B[39m\u001B[38;5;132;01m{\u001B[39;00mfunc\u001B[38;5;241m.\u001B[39m\u001B[38;5;18m__qualname__\u001B[39m\u001B[38;5;132;01m}\u001B[39;00m\u001B[38;5;124m\"\u001B[39m)\n",
      "File \u001B[0;32m~/Documents/projects/sae_single_repo/backend/AI_services/ai_services/models/fact_checker.py:299\u001B[0m, in \u001B[0;36mFactCheckerPipeline.evaluate_text\u001B[0;34m(self, text, context)\u001B[0m\n\u001B[1;32m    297\u001B[0m \u001B[38;5;28;01mif\u001B[39;00m \u001B[38;5;28mlen\u001B[39m(sentence) \u001B[38;5;241m==\u001B[39m \u001B[38;5;241m0\u001B[39m:\n\u001B[1;32m    298\u001B[0m     \u001B[38;5;28;01mcontinue\u001B[39;00m\n\u001B[0;32m--> 299\u001B[0m result \u001B[38;5;241m=\u001B[39m \u001B[38;5;28;43mself\u001B[39;49m\u001B[38;5;241;43m.\u001B[39;49m\u001B[43m_predict\u001B[49m\u001B[43m(\u001B[49m\u001B[43msentence\u001B[49m\u001B[43m,\u001B[49m\u001B[43m \u001B[49m\u001B[43mis_original\u001B[49m\u001B[38;5;241;43m=\u001B[39;49m\u001B[38;5;28;43;01mTrue\u001B[39;49;00m\u001B[43m)\u001B[49m\n\u001B[1;32m    300\u001B[0m \u001B[38;5;28;01mif\u001B[39;00m result \u001B[38;5;129;01mis\u001B[39;00m \u001B[38;5;129;01mnot\u001B[39;00m \u001B[38;5;28;01mNone\u001B[39;00m:\n\u001B[1;32m    301\u001B[0m     results\u001B[38;5;241m.\u001B[39mextend(result)\n",
      "File \u001B[0;32m~/Documents/projects/sae_single_repo/backend/AI_services/ai_services/interfaces.py:33\u001B[0m, in \u001B[0;36m_CatchKIMeta._catch_keyboard_interrupt.<locals>.wrapper\u001B[0;34m(*args, **kwargs)\u001B[0m\n\u001B[1;32m     30\u001B[0m \u001B[38;5;129m@functools\u001B[39m\u001B[38;5;241m.\u001B[39mwraps(func)\n\u001B[1;32m     31\u001B[0m \u001B[38;5;28;01mdef\u001B[39;00m \u001B[38;5;21mwrapper\u001B[39m(\u001B[38;5;241m*\u001B[39margs, \u001B[38;5;241m*\u001B[39m\u001B[38;5;241m*\u001B[39mkwargs):\n\u001B[1;32m     32\u001B[0m     \u001B[38;5;28;01mtry\u001B[39;00m:\n\u001B[0;32m---> 33\u001B[0m         \u001B[38;5;28;01mreturn\u001B[39;00m \u001B[43mfunc\u001B[49m\u001B[43m(\u001B[49m\u001B[38;5;241;43m*\u001B[39;49m\u001B[43margs\u001B[49m\u001B[43m,\u001B[49m\u001B[43m \u001B[49m\u001B[38;5;241;43m*\u001B[39;49m\u001B[38;5;241;43m*\u001B[39;49m\u001B[43mkwargs\u001B[49m\u001B[43m)\u001B[49m\n\u001B[1;32m     34\u001B[0m     \u001B[38;5;28;01mexcept\u001B[39;00m \u001B[38;5;167;01mKeyboardInterrupt\u001B[39;00m:\n\u001B[1;32m     35\u001B[0m         \u001B[38;5;28mprint\u001B[39m(\u001B[38;5;124mf\u001B[39m\u001B[38;5;124m\"\u001B[39m\u001B[38;5;124mInterrupted in \u001B[39m\u001B[38;5;132;01m{\u001B[39;00mfunc\u001B[38;5;241m.\u001B[39m\u001B[38;5;18m__qualname__\u001B[39m\u001B[38;5;132;01m}\u001B[39;00m\u001B[38;5;124m\"\u001B[39m)\n",
      "File \u001B[0;32m~/Documents/projects/sae_single_repo/backend/AI_services/ai_services/models/fact_checker.py:207\u001B[0m, in \u001B[0;36mFactCheckerPipeline._predict\u001B[0;34m(self, claim, is_original)\u001B[0m\n\u001B[1;32m    205\u001B[0m \u001B[38;5;28;01mdef\u001B[39;00m \u001B[38;5;21m_predict\u001B[39m(\u001B[38;5;28mself\u001B[39m, claim: \u001B[38;5;28mstr\u001B[39m, \u001B[38;5;241m*\u001B[39m, is_original: \u001B[38;5;28mbool\u001B[39m \u001B[38;5;241m=\u001B[39m \u001B[38;5;28;01mFalse\u001B[39;00m) \u001B[38;5;241m-\u001B[39m\u001B[38;5;241m>\u001B[39m List[SuggestionResponse]:\n\u001B[1;32m    206\u001B[0m     \u001B[38;5;66;03m# TODO: fact checking with NER\u001B[39;00m\n\u001B[0;32m--> 207\u001B[0m     metadata \u001B[38;5;241m=\u001B[39m \u001B[38;5;28;43mself\u001B[39;49m\u001B[38;5;241;43m.\u001B[39;49m\u001B[43mvector_storage\u001B[49m\u001B[38;5;241;43m.\u001B[39;49m\u001B[43msearch\u001B[49m\u001B[43m(\u001B[49m\n\u001B[1;32m    208\u001B[0m \u001B[43m        \u001B[49m\u001B[38;5;28;43mstr\u001B[39;49m\u001B[43m(\u001B[49m\u001B[43mclaim\u001B[49m\u001B[43m)\u001B[49m\u001B[43m,\u001B[49m\n\u001B[1;32m    209\u001B[0m \u001B[43m        \u001B[49m\u001B[43mk\u001B[49m\u001B[38;5;241;43m=\u001B[39;49m\u001B[38;5;28;43mself\u001B[39;49m\u001B[38;5;241;43m.\u001B[39;49m\u001B[43mstorage_search_k\u001B[49m\u001B[43m,\u001B[49m\n\u001B[1;32m    210\u001B[0m \u001B[43m        \u001B[49m\u001B[43mthreshold\u001B[49m\u001B[38;5;241;43m=\u001B[39;49m\u001B[38;5;28;43mself\u001B[39;49m\u001B[38;5;241;43m.\u001B[39;49m\u001B[43mstorage_search_threshold\u001B[49m\n\u001B[1;32m    211\u001B[0m \u001B[43m    \u001B[49m\u001B[43m)\u001B[49m\n\u001B[1;32m    213\u001B[0m     \u001B[38;5;28;01mwith\u001B[39;00m \u001B[38;5;28mopen\u001B[39m(\u001B[38;5;124m\"\u001B[39m\u001B[38;5;124m./logs.json\u001B[39m\u001B[38;5;124m\"\u001B[39m, \u001B[38;5;124m\"\u001B[39m\u001B[38;5;124mr\u001B[39m\u001B[38;5;124m\"\u001B[39m) \u001B[38;5;28;01mas\u001B[39;00m f:\n\u001B[1;32m    214\u001B[0m         logs: \u001B[38;5;28mlist\u001B[39m \u001B[38;5;241m=\u001B[39m json\u001B[38;5;241m.\u001B[39mload(f)\n",
      "File \u001B[0;32m~/Documents/projects/sae_single_repo/backend/AI_services/ai_services/vector_storage.py:122\u001B[0m, in \u001B[0;36mVectorStorage.search\u001B[0;34m(self, text, k, threshold)\u001B[0m\n\u001B[1;32m    120\u001B[0m     \u001B[38;5;28;01mif\u001B[39;00m pos \u001B[38;5;241m==\u001B[39m \u001B[38;5;241m-\u001B[39m\u001B[38;5;241m1\u001B[39m \u001B[38;5;129;01mor\u001B[39;00m dist \u001B[38;5;241m>\u001B[39m threshold:\n\u001B[1;32m    121\u001B[0m         \u001B[38;5;28;01mcontinue\u001B[39;00m\n\u001B[0;32m--> 122\u001B[0m     doc_id \u001B[38;5;241m=\u001B[39m \u001B[38;5;28;43mself\u001B[39;49m\u001B[38;5;241;43m.\u001B[39;49m\u001B[43m_offset_to_id\u001B[49m\u001B[43m[\u001B[49m\u001B[43mpos\u001B[49m\u001B[43m]\u001B[49m\n\u001B[1;32m    123\u001B[0m     results\u001B[38;5;241m.\u001B[39mappend(\n\u001B[1;32m    124\u001B[0m         {\n\u001B[1;32m    125\u001B[0m             \u001B[38;5;124m\"\u001B[39m\u001B[38;5;124mid\u001B[39m\u001B[38;5;124m\"\u001B[39m: \u001B[38;5;28mint\u001B[39m(doc_id),\n\u001B[0;32m   (...)\u001B[0m\n\u001B[1;32m    128\u001B[0m         }\n\u001B[1;32m    129\u001B[0m     )\n\u001B[1;32m    130\u001B[0m \u001B[38;5;28;01mreturn\u001B[39;00m results\n",
      "\u001B[0;31mIndexError\u001B[0m: list index out of range"
     ]
    }
   ],
   "execution_count": 10
  },
  {
   "metadata": {
    "ExecuteTime": {
     "end_time": "2025-05-04T14:49:15.724592Z",
     "start_time": "2025-05-04T13:40:34.738854Z"
    }
   },
   "cell_type": "code",
   "source": [
    "preds.errors_in_sentences = preds.errors_in_sentences.apply(str)\n",
    "preds[\"suggestions_json\"] = preds[\"errors_in_sentences\"].apply(parse_suggestions_column)\n",
    "data.errors_in_sentences = data.errors_in_sentences.apply(str)\n",
    "data[\"suggestions_json\"] = data[\"errors_in_sentences\"].apply(parse_suggestions_column)"
   ],
   "id": "3fa50a183900856f",
   "outputs": [],
   "execution_count": 46
  },
  {
   "metadata": {
    "ExecuteTime": {
     "end_time": "2025-05-04T14:49:15.724838Z",
     "start_time": "2025-05-04T13:40:34.813187Z"
    }
   },
   "cell_type": "code",
   "source": [
    "import spacy\n",
    "\n",
    "df_true = data.copy()\n",
    "df_pred = preds.copy()\n",
    "\n",
    "df_true[\"true_sugs\"] = df_true[\"suggestions_json\"]\n",
    "df_true[\"pred_sugs\"] = df_pred[\"suggestions_json\"]\n",
    "\n",
    "texts = df_true[\"text\"].tolist()\n",
    "true_suggestions = df_true[\"true_sugs\"].tolist()\n",
    "pred_suggestions = df_true[\"pred_sugs\"].tolist()\n",
    "\n",
    "nlp = spacy.load(\"en_core_web_sm\")\n",
    "\n",
    "print(\"=== Paragraph-level ===\")\n",
    "print(paragraph_classification_report(true_suggestions, pred_suggestions))\n",
    "\n",
    "print(\"=== Sentence-level ===\")\n",
    "print(sentence_classification_report(\n",
    "    texts,\n",
    "    true_suggestions,\n",
    "    pred_suggestions,\n",
    "    nlp\n",
    "))\n",
    "\n",
    "print(\"=== Suggestion-level ===\")\n",
    "scores = suggestion_level_metrics(true_suggestions, pred_suggestions)\n",
    "print(f\"Precision: {scores['precision']:.3f}\")\n",
    "print(f\"Recall:    {scores['recall']:.3f}\")\n",
    "print(f\"F1-score:  {scores['f1']:.3f}\")"
   ],
   "id": "a0117791dce5395c",
   "outputs": [
    {
     "name": "stdout",
     "output_type": "stream",
     "text": [
      "=== Paragraph-level ===\n",
      "              precision    recall  f1-score   support\n",
      "\n",
      "    no_error      0.000     0.000     0.000        25\n",
      "       error      0.500     1.000     0.667        25\n",
      "\n",
      "    accuracy                          0.500        50\n",
      "   macro avg      0.250     0.500     0.333        50\n",
      "weighted avg      0.250     0.500     0.333        50\n",
      "\n",
      "=== Sentence-level ===\n"
     ]
    },
    {
     "name": "stderr",
     "output_type": "stream",
     "text": [
      "/Library/Frameworks/Python.framework/Versions/3.11/lib/python3.11/site-packages/sklearn/metrics/_classification.py:1497: UndefinedMetricWarning: Precision is ill-defined and being set to 0.0 in labels with no predicted samples. Use `zero_division` parameter to control this behavior.\n",
      "  _warn_prf(average, modifier, f\"{metric.capitalize()} is\", len(result))\n",
      "/Library/Frameworks/Python.framework/Versions/3.11/lib/python3.11/site-packages/sklearn/metrics/_classification.py:1497: UndefinedMetricWarning: Precision is ill-defined and being set to 0.0 in labels with no predicted samples. Use `zero_division` parameter to control this behavior.\n",
      "  _warn_prf(average, modifier, f\"{metric.capitalize()} is\", len(result))\n",
      "/Library/Frameworks/Python.framework/Versions/3.11/lib/python3.11/site-packages/sklearn/metrics/_classification.py:1497: UndefinedMetricWarning: Precision is ill-defined and being set to 0.0 in labels with no predicted samples. Use `zero_division` parameter to control this behavior.\n",
      "  _warn_prf(average, modifier, f\"{metric.capitalize()} is\", len(result))\n"
     ]
    },
    {
     "name": "stdout",
     "output_type": "stream",
     "text": [
      "              precision    recall  f1-score   support\n",
      "\n",
      "    no_error      1.000     0.518     0.682       139\n",
      "       error      0.468     1.000     0.638        59\n",
      "\n",
      "    accuracy                          0.662       198\n",
      "   macro avg      0.734     0.759     0.660       198\n",
      "weighted avg      0.842     0.662     0.669       198\n",
      "\n",
      "=== Suggestion-level ===\n",
      "Precision: 0.368\n",
      "Recall:    0.747\n",
      "F1-score:  0.493\n"
     ]
    }
   ],
   "execution_count": 47
  },
  {
   "metadata": {
    "ExecuteTime": {
     "end_time": "2025-05-04T14:49:15.725129Z",
     "start_time": "2025-05-04T13:23:08.038268Z"
    }
   },
   "cell_type": "code",
   "source": "",
   "id": "cf2851b768d0895a",
   "outputs": [],
   "execution_count": null
  },
  {
   "metadata": {
    "ExecuteTime": {
     "end_time": "2025-05-04T14:49:15.725417Z",
     "start_time": "2025-05-04T13:02:40.376027Z"
    }
   },
   "cell_type": "code",
   "source": "",
   "id": "e1b4908288b6c798",
   "outputs": [],
   "execution_count": null
  }
 ],
 "metadata": {
  "kernelspec": {
   "display_name": "Python 3",
   "language": "python",
   "name": "python3"
  },
  "language_info": {
   "codemirror_mode": {
    "name": "ipython",
    "version": 2
   },
   "file_extension": ".py",
   "mimetype": "text/x-python",
   "name": "python",
   "nbconvert_exporter": "python",
   "pygments_lexer": "ipython2",
   "version": "2.7.6"
  }
 },
 "nbformat": 4,
 "nbformat_minor": 5
}
