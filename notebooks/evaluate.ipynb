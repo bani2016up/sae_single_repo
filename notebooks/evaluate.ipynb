{
 "cells": [
  {
   "cell_type": "code",
   "id": "initial_id",
   "metadata": {
    "collapsed": true,
    "ExecuteTime": {
     "end_time": "2025-05-07T20:18:10.309625Z",
     "start_time": "2025-05-07T20:18:05.684589Z"
    }
   },
   "source": [
    "import pandas as pd\n",
    "import spacy\n",
    "\n",
    "from sentence_transformers import SentenceTransformer\n",
    "from tqdm.auto import tqdm\n",
    "from functools import lru_cache\n",
    "\n",
    "from backend.AI_services.ai_services.vector_storage import VectorStorage\n",
    "from backend.AI_services.ai_services.models.fact_checker import FactCheckerPipeline\n",
    "from backend.AI_services.ai_services.preprocessing import get_default_coref_pipeline\n",
    "from backend.AI_services.ai_services.utils import disable_fastcoref_progress_bar\n",
    "from setup_clearml_env import setup\n",
    "from metric import *\n",
    "\n",
    "tqdm.pandas()\n",
    "disable_fastcoref_progress_bar()\n",
    "setup(seed=42)"
   ],
   "outputs": [],
   "execution_count": 1
  },
  {
   "metadata": {
    "ExecuteTime": {
     "end_time": "2025-05-07T20:18:10.334183Z",
     "start_time": "2025-05-07T20:18:10.324243Z"
    }
   },
   "cell_type": "code",
   "source": [
    "data = pd.read_csv(\"../data/test.csv\")\n",
    "data = data.fillna(\"[]\")"
   ],
   "id": "2de83c483a67d855",
   "outputs": [],
   "execution_count": 2
  },
  {
   "metadata": {
    "ExecuteTime": {
     "end_time": "2025-05-07T20:26:46.562164Z",
     "start_time": "2025-05-07T20:26:46.545286Z"
    }
   },
   "cell_type": "code",
   "source": [
    "sentence_transformer_model = 'intfloat/e5-base-v2'\n",
    "sentence_transformer_device = \"cpu\"\n",
    "fact_checker_base = {\n",
    "    \"processing_device\": \"cpu\",\n",
    "    \"device\": \"cpu\",\n",
    "    \"get_explanation\": False,\n",
    "    \"automatic_contextualisation\": True,\n",
    "}\n",
    "\n",
    "search_params = {\n",
    "    \"storage_search_k\": 3,\n",
    "    \"storage_search_threshold\": 0.2,\n",
    "}\n",
    "\n",
    "vector_storage_file = \"../data/vector_storages/storage-chunk_2_processed\""
   ],
   "id": "18f42200f90ef810",
   "outputs": [],
   "execution_count": 10
  },
  {
   "metadata": {
    "ExecuteTime": {
     "end_time": "2025-05-07T20:18:13.744249Z",
     "start_time": "2025-05-07T20:18:10.536231Z"
    }
   },
   "cell_type": "code",
   "source": [
    "model = SentenceTransformer(sentence_transformer_model, device=sentence_transformer_device)\n",
    "nlp = spacy.load(\"en_core_web_sm\")"
   ],
   "id": "e5c6d41e840b289a",
   "outputs": [
    {
     "name": "stderr",
     "output_type": "stream",
     "text": [
      "05/07/2025 23:18:10 - INFO - \t Load pretrained SentenceTransformer: intfloat/e5-base-v2\n"
     ]
    }
   ],
   "execution_count": 4
  },
  {
   "metadata": {
    "ExecuteTime": {
     "end_time": "2025-05-07T20:18:13.763786Z",
     "start_time": "2025-05-07T20:18:13.760674Z"
    }
   },
   "cell_type": "code",
   "source": [
    "@lru_cache(maxsize=None)\n",
    "def get_sentence_embeddings(text: str, **kwargs):\n",
    "    return model.encode(text, **kwargs)"
   ],
   "id": "57d2b9a2ae082a0c",
   "outputs": [],
   "execution_count": 5
  },
  {
   "metadata": {
    "ExecuteTime": {
     "end_time": "2025-05-07T20:18:13.775641Z",
     "start_time": "2025-05-07T20:18:13.773016Z"
    }
   },
   "cell_type": "code",
   "source": [
    "storage = VectorStorage(\n",
    "    dim=model.get_sentence_embedding_dimension(),\n",
    "    embedder=get_sentence_embeddings,\n",
    ")"
   ],
   "id": "9b6996ef8297cee6",
   "outputs": [],
   "execution_count": 6
  },
  {
   "metadata": {
    "ExecuteTime": {
     "end_time": "2025-05-07T20:18:16.081767Z",
     "start_time": "2025-05-07T20:18:13.780103Z"
    }
   },
   "cell_type": "code",
   "source": "coref_pipeline = get_default_coref_pipeline(device=fact_checker_base[\"processing_device\"])",
   "id": "9f4574fd8371f0fc",
   "outputs": [],
   "execution_count": 7
  },
  {
   "metadata": {
    "ExecuteTime": {
     "end_time": "2025-05-07T20:26:52.397415Z",
     "start_time": "2025-05-07T20:26:52.365444Z"
    }
   },
   "cell_type": "code",
   "source": [
    "def evaluate_config(dataset):\n",
    "    preds = pd.DataFrame(columns=[\"text\", \"is_error_in_paragraphs\", \"errors_in_sentences\"])\n",
    "\n",
    "    df_true = dataset.copy()\n",
    "    storage.load(vector_storage_file)\n",
    "\n",
    "    fact_checker = FactCheckerPipeline(\n",
    "        vector_storage=storage,\n",
    "        processing_pipeline=coref_pipeline,\n",
    "        processing_device=fact_checker_base[\"processing_device\"],\n",
    "        device=fact_checker_base[\"device\"],\n",
    "        get_explanation=fact_checker_base[\"get_explanation\"],\n",
    "        storage_search_k=search_params[\"storage_search_k\"],\n",
    "        storage_search_threshold=search_params[\"storage_search_threshold\"],\n",
    "        automatic_contextualisation=fact_checker_base[\"automatic_contextualisation\"]\n",
    "    )\n",
    "\n",
    "    for i, row in tqdm(df_true.iterrows(), total=len(df_true), desc=\"Evaluating\"):\n",
    "        text = row[\"text\"]\n",
    "        predictions = fact_checker.evaluate_text(\n",
    "            text.lower().strip().replace(\"\\n\", \" \"),\n",
    "        )\n",
    "        preds.loc[i] = [\n",
    "            text,\n",
    "            len(predictions) != 0,\n",
    "            str([s.fact.index + 1 for s in predictions])\n",
    "        ]\n",
    "\n",
    "    preds[\"errors_in_sentences\"] = preds[\"errors_in_sentences\"].apply(str)\n",
    "    preds[\"suggestions_json\"] = preds[\"errors_in_sentences\"].apply(parse_suggestions_column)\n",
    "\n",
    "    df_true[\"errors_in_sentences\"] = df_true[\"errors_in_sentences\"].apply(str)\n",
    "    df_true[\"suggestions_json\"] = df_true[\"errors_in_sentences\"].apply(parse_suggestions_column)\n",
    "\n",
    "    df_true[\"true_sugs\"] = df_true[\"suggestions_json\"]\n",
    "    df_true[\"pred_sugs\"] = preds[\"suggestions_json\"]\n",
    "\n",
    "    texts = df_true[\"text\"].tolist()\n",
    "    true_suggestions = df_true[\"true_sugs\"].tolist()\n",
    "    pred_suggestions = df_true[\"pred_sugs\"].tolist()\n",
    "\n",
    "    print(paragraph_classification_report(true_suggestions, pred_suggestions))\n",
    "    print(sentence_classification_report(texts, true_suggestions, pred_suggestions, nlp))\n",
    "    print(suggestion_level_metrics(true_suggestions, pred_suggestions))\n"
   ],
   "id": "3bb9f82ef52fefac",
   "outputs": [],
   "execution_count": 11
  },
  {
   "metadata": {
    "ExecuteTime": {
     "end_time": "2025-05-07T20:32:25.030809Z",
     "start_time": "2025-05-07T20:26:52.990831Z"
    }
   },
   "cell_type": "code",
   "source": "evaluate_config(data)",
   "id": "9b0ba0567994b1c4",
   "outputs": [
    {
     "data": {
      "text/plain": [
       "Evaluating:   0%|          | 0/50 [00:00<?, ?it/s]"
      ],
      "application/vnd.jupyter.widget-view+json": {
       "version_major": 2,
       "version_minor": 0,
       "model_id": "c8beca03712c463f88f9555d69bba0ac"
      }
     },
     "metadata": {},
     "output_type": "display_data"
    },
    {
     "name": "stdout",
     "output_type": "stream",
     "text": [
      "              precision    recall  f1-score   support\n",
      "\n",
      "    no_error      0.500     1.000     0.667        25\n",
      "       error      0.000     0.000     0.000        25\n",
      "\n",
      "    accuracy                          0.500        50\n",
      "   macro avg      0.250     0.500     0.333        50\n",
      "weighted avg      0.250     0.500     0.333        50\n",
      "\n",
      "              precision    recall  f1-score   support\n",
      "\n",
      "    no_error      0.702     1.000     0.825       139\n",
      "       error      0.000     0.000     0.000        59\n",
      "\n",
      "    accuracy                          0.702       198\n",
      "   macro avg      0.351     0.500     0.412       198\n",
      "weighted avg      0.493     0.702     0.579       198\n",
      "\n",
      "{'precision': 0.0, 'recall': 0.0, 'f1': 0.0}\n"
     ]
    }
   ],
   "execution_count": 12
  },
  {
   "metadata": {
    "ExecuteTime": {
     "end_time": "2025-05-07T14:14:45.488591Z",
     "start_time": "2025-05-07T14:14:45.486654Z"
    }
   },
   "cell_type": "code",
   "source": "",
   "id": "890864ae417d0624",
   "outputs": [],
   "execution_count": null
  },
  {
   "metadata": {
    "ExecuteTime": {
     "end_time": "2025-05-07T14:14:45.529238Z",
     "start_time": "2025-05-07T14:14:45.527505Z"
    }
   },
   "cell_type": "code",
   "source": "",
   "id": "714cd40ee5ef78c9",
   "outputs": [],
   "execution_count": null
  },
  {
   "metadata": {
    "ExecuteTime": {
     "end_time": "2025-05-07T14:14:45.540484Z",
     "start_time": "2025-05-07T14:14:45.539236Z"
    }
   },
   "cell_type": "code",
   "source": "",
   "id": "609c8cb3ecb1c5f7",
   "outputs": [],
   "execution_count": null
  }
 ],
 "metadata": {
  "kernelspec": {
   "display_name": "Python 3",
   "language": "python",
   "name": "python3"
  },
  "language_info": {
   "codemirror_mode": {
    "name": "ipython",
    "version": 2
   },
   "file_extension": ".py",
   "mimetype": "text/x-python",
   "name": "python",
   "nbconvert_exporter": "python",
   "pygments_lexer": "ipython2",
   "version": "2.7.6"
  }
 },
 "nbformat": 4,
 "nbformat_minor": 5
}
