{
 "cells": [
  {
   "cell_type": "code",
   "id": "initial_id",
   "metadata": {
    "collapsed": true,
    "ExecuteTime": {
     "end_time": "2025-04-30T21:58:10.922456Z",
     "start_time": "2025-04-30T21:58:10.458998Z"
    }
   },
   "source": [
    "import pathlib\n",
    "import os\n",
    "import pandas as pd\n",
    "from corpus_tools.cleaning import *\n",
    "\n",
    "os.chdir(\"../data\")"
   ],
   "outputs": [],
   "execution_count": 1
  },
  {
   "metadata": {
    "ExecuteTime": {
     "end_time": "2025-04-30T21:58:11.337028Z",
     "start_time": "2025-04-30T21:58:11.332323Z"
    }
   },
   "cell_type": "code",
   "source": [
    "list(os.walk(\"./\"))[0][2]"
   ],
   "id": "3564d67f9543ab0",
   "outputs": [
    {
     "data": {
      "text/plain": [
       "['Soviet-Women-War-Effort_-1941-1945.txt',\n",
       " 'The-Cambridge-History-of-Russia-vol.txt',\n",
       " 'paragraphs_without_authors.csv',\n",
       " 'paragraphs.csv',\n",
       " 'The-Cambridge-History-of-Russia-vol-clean.txt']"
      ]
     },
     "execution_count": 2,
     "metadata": {},
     "output_type": "execute_result"
    }
   ],
   "execution_count": 2
  },
  {
   "metadata": {
    "ExecuteTime": {
     "end_time": "2025-04-30T21:58:12.110432Z",
     "start_time": "2025-04-30T21:58:12.107258Z"
    }
   },
   "cell_type": "code",
   "source": [
    "files = [\n",
    "    \"./The-Cambridge-History-of-Russia-vol.txt\",\n",
    "    \"./Soviet-Women-War-Effort_-1941-1945.txt\",\n",
    "]"
   ],
   "id": "621355216d20fb58",
   "outputs": [],
   "execution_count": 3
  },
  {
   "metadata": {
    "ExecuteTime": {
     "end_time": "2025-04-30T21:58:12.818564Z",
     "start_time": "2025-04-30T21:58:12.814147Z"
    }
   },
   "cell_type": "code",
   "source": "data = pd.DataFrame(columns=[\"text\"])",
   "id": "ff98c4dc4a76771e",
   "outputs": [],
   "execution_count": 4
  },
  {
   "metadata": {
    "ExecuteTime": {
     "end_time": "2025-04-30T21:58:13.288044Z",
     "start_time": "2025-04-30T21:58:13.164732Z"
    }
   },
   "cell_type": "code",
   "source": [
    "for file in files:\n",
    "    if file.endswith(\".txt\"):\n",
    "        path = os.path.join(\"./\", file)\n",
    "        raw_text = pathlib.Path(path).read_text(encoding=\"utf-8\", errors=\"ignore\")\n",
    "        paragraphs = clean_and_paragraphize(raw_text)\n",
    "        data = pd.concat([data, pd.DataFrame({\"text\": paragraphs})], ignore_index=True)"
   ],
   "id": "fd86f8c6db62b2ef",
   "outputs": [],
   "execution_count": 5
  },
  {
   "metadata": {
    "ExecuteTime": {
     "end_time": "2025-04-30T21:58:14.720140Z",
     "start_time": "2025-04-30T21:58:14.676351Z"
    }
   },
   "cell_type": "code",
   "source": "data.to_csv(\"./paragraphs.csv\", index=False)",
   "id": "bb8038d1af651b0a",
   "outputs": [],
   "execution_count": 6
  },
  {
   "metadata": {},
   "cell_type": "code",
   "outputs": [],
   "execution_count": null,
   "source": "",
   "id": "d9d36e9f64212646"
  }
 ],
 "metadata": {
  "kernelspec": {
   "display_name": "Python 3",
   "language": "python",
   "name": "python3"
  },
  "language_info": {
   "codemirror_mode": {
    "name": "ipython",
    "version": 2
   },
   "file_extension": ".py",
   "mimetype": "text/x-python",
   "name": "python",
   "nbconvert_exporter": "python",
   "pygments_lexer": "ipython2",
   "version": "2.7.6"
  }
 },
 "nbformat": 4,
 "nbformat_minor": 5
}
