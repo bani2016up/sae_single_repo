{
 "cells": [
  {
   "cell_type": "code",
   "id": "initial_id",
   "metadata": {
    "collapsed": true,
    "ExecuteTime": {
     "end_time": "2025-05-04T17:41:00.585092Z",
     "start_time": "2025-05-04T17:41:00.145929Z"
    }
   },
   "source": [
    "import pathlib\n",
    "import os\n",
    "import pandas as pd\n",
    "from corpus_tools.cleaning import *\n",
    "\n",
    "os.chdir(\"../data\")"
   ],
   "outputs": [],
   "execution_count": 1
  },
  {
   "metadata": {
    "ExecuteTime": {
     "end_time": "2025-05-04T17:41:01.521786Z",
     "start_time": "2025-05-04T17:41:01.515069Z"
    }
   },
   "cell_type": "code",
   "source": [
    "list(os.walk(\"./\"))[0][2]"
   ],
   "id": "3564d67f9543ab0",
   "outputs": [
    {
     "data": {
      "text/plain": [
       "['w2vcluster_01.csv',\n",
       " 'w2vcluster_01_storage.index',\n",
       " '.DS_Store',\n",
       " 'w2vcluster_01_storagev2.index',\n",
       " 'Soviet-Women-War-Effort_-1941-1945.txt',\n",
       " 'w2vcluster_01_storage.pkl',\n",
       " 'The-Cambridge-History-of-Russia-vol.txt',\n",
       " 'raw_data2.csv',\n",
       " 'raw_data.csv',\n",
       " 'w2vcluster_2.csv',\n",
       " 'w2vcluster_01_storagev2.pkl']"
      ]
     },
     "execution_count": 2,
     "metadata": {},
     "output_type": "execute_result"
    }
   ],
   "execution_count": 2
  },
  {
   "metadata": {
    "ExecuteTime": {
     "end_time": "2025-05-04T17:41:04.004597Z",
     "start_time": "2025-05-04T17:41:04.001399Z"
    }
   },
   "cell_type": "code",
   "source": [
    "files = [\n",
    "    \"./The-Cambridge-History-of-Russia-vol.txt\",\n",
    "    \"./Soviet-Women-War-Effort_-1941-1945.txt\",\n",
    "]"
   ],
   "id": "621355216d20fb58",
   "outputs": [],
   "execution_count": 3
  },
  {
   "metadata": {
    "ExecuteTime": {
     "end_time": "2025-05-04T17:41:05.463234Z",
     "start_time": "2025-05-04T17:41:05.456127Z"
    }
   },
   "cell_type": "code",
   "source": "data = pd.DataFrame(columns=[\"text\"])",
   "id": "ff98c4dc4a76771e",
   "outputs": [],
   "execution_count": 4
  },
  {
   "metadata": {
    "ExecuteTime": {
     "end_time": "2025-05-04T17:41:07.873771Z",
     "start_time": "2025-05-04T17:41:07.736117Z"
    }
   },
   "cell_type": "code",
   "source": [
    "for file in files:\n",
    "    if file.endswith(\".txt\"):\n",
    "        path = os.path.join(\"./\", file)\n",
    "        raw_text = pathlib.Path(path).read_text(encoding=\"utf-8\", errors=\"ignore\")\n",
    "        paragraphs = clean_and_paragraphize(raw_text)\n",
    "        data = pd.concat([data, pd.DataFrame({\"text\": paragraphs})], ignore_index=True)"
   ],
   "id": "fd86f8c6db62b2ef",
   "outputs": [],
   "execution_count": 5
  },
  {
   "metadata": {
    "ExecuteTime": {
     "end_time": "2025-05-04T17:41:56.655999Z",
     "start_time": "2025-05-04T17:41:56.617981Z"
    }
   },
   "cell_type": "code",
   "source": "data.to_csv(\"./paragraphs.csv\", index_label=\"index\")",
   "id": "bb8038d1af651b0a",
   "outputs": [],
   "execution_count": 7
  },
  {
   "metadata": {},
   "cell_type": "code",
   "outputs": [],
   "execution_count": null,
   "source": "",
   "id": "d9d36e9f64212646"
  }
 ],
 "metadata": {
  "kernelspec": {
   "display_name": "Python 3",
   "language": "python",
   "name": "python3"
  },
  "language_info": {
   "codemirror_mode": {
    "name": "ipython",
    "version": 2
   },
   "file_extension": ".py",
   "mimetype": "text/x-python",
   "name": "python",
   "nbconvert_exporter": "python",
   "pygments_lexer": "ipython2",
   "version": "2.7.6"
  }
 },
 "nbformat": 4,
 "nbformat_minor": 5
}
