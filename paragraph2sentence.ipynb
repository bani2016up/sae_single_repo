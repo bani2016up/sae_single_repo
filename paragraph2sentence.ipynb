{
 "cells": [
  {
   "cell_type": "code",
   "id": "initial_id",
   "metadata": {
    "collapsed": true,
    "ExecuteTime": {
     "end_time": "2025-05-05T19:48:55.904658Z",
     "start_time": "2025-05-05T19:48:55.890599Z"
    }
   },
   "source": [
    "import pandas as pd\n",
    "import string\n",
    "import pickle\n",
    "import numpy as np\n",
    "import spacy\n",
    "import warnings\n",
    "\n",
    "from catboost import CatBoostClassifier\n",
    "from sklearn.feature_extraction.text import TfidfVectorizer\n",
    "from tqdm.auto import tqdm\n",
    "\n",
    "tqdm.pandas()\n",
    "warnings.filterwarnings(\"ignore\")"
   ],
   "outputs": [],
   "execution_count": 43
  },
  {
   "metadata": {
    "ExecuteTime": {
     "end_time": "2025-05-05T19:48:55.938418Z",
     "start_time": "2025-05-05T19:48:55.910623Z"
    }
   },
   "cell_type": "code",
   "source": "data = pd.read_csv(\"../data/paragraphs.csv\")",
   "id": "6f8b6104af07c7f5",
   "outputs": [],
   "execution_count": 44
  },
  {
   "metadata": {
    "ExecuteTime": {
     "end_time": "2025-05-05T19:48:55.951162Z",
     "start_time": "2025-05-05T19:48:55.948701Z"
    }
   },
   "cell_type": "code",
   "source": "data = data.drop(\"index\", axis=1)",
   "id": "ab0dd47106660e84",
   "outputs": [],
   "execution_count": 45
  },
  {
   "metadata": {
    "ExecuteTime": {
     "end_time": "2025-05-05T19:48:55.959273Z",
     "start_time": "2025-05-05T19:48:55.956882Z"
    }
   },
   "cell_type": "code",
   "source": "data[\"original_text\"] = data.text",
   "id": "5d4a57ed71cda34e",
   "outputs": [],
   "execution_count": 46
  },
  {
   "metadata": {
    "ExecuteTime": {
     "end_time": "2025-05-05T19:48:55.987403Z",
     "start_time": "2025-05-05T19:48:55.970917Z"
    }
   },
   "cell_type": "code",
   "source": [
    "with open(\"../data/vectorizer096.pkl\", \"rb\") as f:\n",
    "    vectorizer: TfidfVectorizer = pickle.load(f)\n",
    "\n",
    "with open(\"../data/model096.pkl\", \"rb\") as f:\n",
    "    model: CatBoostClassifier = pickle.load(f)"
   ],
   "id": "e00cd3f0823ec5a3",
   "outputs": [],
   "execution_count": 47
  },
  {
   "metadata": {
    "ExecuteTime": {
     "end_time": "2025-05-05T19:48:55.991989Z",
     "start_time": "2025-05-05T19:48:55.990017Z"
    }
   },
   "cell_type": "code",
   "source": [
    "def process_text(text):\n",
    "    return \"\".join([char for char in text.lower() if char.isalnum() or char.isspace()]).strip()"
   ],
   "id": "2a46685562030ad1",
   "outputs": [],
   "execution_count": 48
  },
  {
   "metadata": {
    "ExecuteTime": {
     "end_time": "2025-05-05T19:48:56.169243Z",
     "start_time": "2025-05-05T19:48:56.000915Z"
    }
   },
   "cell_type": "code",
   "source": [
    "data[\"len\"] = data.text.apply(len)\n",
    "data[\"punct_count\"] = data.text.apply(lambda x: len([c for c in x if c in string.punctuation]))\n",
    "data[\"numbers_count\"] = data.text.apply(lambda x: len([c for c in x if c.isdigit()]))\n",
    "data[\"word_numbers_count\"] = data.text.apply(lambda x: len([w for w in x.split() if w.isdigit()]))\n",
    "data.text = data.text.apply(process_text)\n",
    "data[\"len_after_prc\"] = data.text.apply(len)"
   ],
   "id": "7729b2e554a2da7d",
   "outputs": [],
   "execution_count": 49
  },
  {
   "metadata": {
    "ExecuteTime": {
     "end_time": "2025-05-05T19:48:56.406542Z",
     "start_time": "2025-05-05T19:48:56.175076Z"
    }
   },
   "cell_type": "code",
   "source": "data_processed_tfidf = vectorizer.transform(data.text)",
   "id": "6446ee5911424f21",
   "outputs": [],
   "execution_count": 50
  },
  {
   "metadata": {
    "ExecuteTime": {
     "end_time": "2025-05-05T19:48:56.462728Z",
     "start_time": "2025-05-05T19:48:56.417011Z"
    }
   },
   "cell_type": "code",
   "source": "data_processed_tfidf = data_processed_tfidf.toarray()",
   "id": "31b79dd52c7aeba9",
   "outputs": [],
   "execution_count": 51
  },
  {
   "metadata": {
    "ExecuteTime": {
     "end_time": "2025-05-05T19:48:56.471604Z",
     "start_time": "2025-05-05T19:48:56.469446Z"
    }
   },
   "cell_type": "code",
   "source": [
    "columns = [\n",
    "    \"len\",\n",
    "    \"punct_count\",\n",
    "    \"numbers_count\",\n",
    "    \"word_numbers_count\",\n",
    "    # ------------------\n",
    "    \"len_after_prc\",\n",
    "]"
   ],
   "id": "7ce8e60625973114",
   "outputs": [],
   "execution_count": 52
  },
  {
   "metadata": {
    "ExecuteTime": {
     "end_time": "2025-05-05T19:48:56.559258Z",
     "start_time": "2025-05-05T19:48:56.478993Z"
    }
   },
   "cell_type": "code",
   "source": [
    "test = np.concatenate(\n",
    "    [\n",
    "        data_processed_tfidf,\n",
    "        data[columns].to_numpy()\n",
    "    ], axis=1)"
   ],
   "id": "33c4387a803e96b3",
   "outputs": [],
   "execution_count": 53
  },
  {
   "metadata": {
    "ExecuteTime": {
     "end_time": "2025-05-05T19:49:01.504018Z",
     "start_time": "2025-05-05T19:48:56.565425Z"
    }
   },
   "cell_type": "code",
   "source": "labels = model.predict(test)",
   "id": "b37541e6d71a08fc",
   "outputs": [],
   "execution_count": 54
  },
  {
   "metadata": {
    "ExecuteTime": {
     "end_time": "2025-05-05T19:49:01.522240Z",
     "start_time": "2025-05-05T19:49:01.519893Z"
    }
   },
   "cell_type": "code",
   "source": "data[\"label\"] = labels",
   "id": "739a4e0ac792a6d7",
   "outputs": [],
   "execution_count": 55
  },
  {
   "metadata": {
    "ExecuteTime": {
     "end_time": "2025-05-05T19:49:01.538082Z",
     "start_time": "2025-05-05T19:49:01.530034Z"
    }
   },
   "cell_type": "code",
   "source": "data = data.loc[data.label == \"other\"]",
   "id": "5ca4b8c37a049272",
   "outputs": [],
   "execution_count": 56
  },
  {
   "metadata": {
    "ExecuteTime": {
     "end_time": "2025-05-05T19:49:01.546582Z",
     "start_time": "2025-05-05T19:49:01.544273Z"
    }
   },
   "cell_type": "code",
   "source": "data = data[[\"original_text\"]]",
   "id": "de72805f73f23e4e",
   "outputs": [],
   "execution_count": 57
  },
  {
   "metadata": {
    "ExecuteTime": {
     "end_time": "2025-05-05T19:49:01.561558Z",
     "start_time": "2025-05-05T19:49:01.553062Z"
    }
   },
   "cell_type": "code",
   "source": "data.original_text = data.original_text.apply(lambda x: x.replace(\"\\n\", \" \").lower())",
   "id": "d003c27ef21a2f61",
   "outputs": [],
   "execution_count": 58
  },
  {
   "metadata": {
    "ExecuteTime": {
     "end_time": "2025-05-05T19:49:01.588690Z",
     "start_time": "2025-05-05T19:49:01.583417Z"
    }
   },
   "cell_type": "code",
   "source": "data",
   "id": "75cf56e13d1a3032",
   "outputs": [
    {
     "data": {
      "text/plain": [
       "                                          original_text\n",
       "0     every effort has been made to secure necessary...\n",
       "1     the system of transliteration from cyrillic us...\n",
       "3     the history of russia in the twentieth century...\n",
       "4     great divide between soviet east and capitalis...\n",
       "5     workers and a cultural straitjacket on the int...\n",
       "...                                                 ...\n",
       "1692  war and women’s position in soviet society  wa...\n",
       "1694  while the heroism of women such as the partisa...\n",
       "1695  her slender neck is cut by the merciless noose...\n",
       "1696  as has been noted, it was not accidental that ...\n",
       "1700  the front – not least from other women. some w...\n",
       "\n",
       "[927 rows x 1 columns]"
      ],
      "text/html": [
       "<div>\n",
       "<style scoped>\n",
       "    .dataframe tbody tr th:only-of-type {\n",
       "        vertical-align: middle;\n",
       "    }\n",
       "\n",
       "    .dataframe tbody tr th {\n",
       "        vertical-align: top;\n",
       "    }\n",
       "\n",
       "    .dataframe thead th {\n",
       "        text-align: right;\n",
       "    }\n",
       "</style>\n",
       "<table border=\"1\" class=\"dataframe\">\n",
       "  <thead>\n",
       "    <tr style=\"text-align: right;\">\n",
       "      <th></th>\n",
       "      <th>original_text</th>\n",
       "    </tr>\n",
       "  </thead>\n",
       "  <tbody>\n",
       "    <tr>\n",
       "      <th>0</th>\n",
       "      <td>every effort has been made to secure necessary...</td>\n",
       "    </tr>\n",
       "    <tr>\n",
       "      <th>1</th>\n",
       "      <td>the system of transliteration from cyrillic us...</td>\n",
       "    </tr>\n",
       "    <tr>\n",
       "      <th>3</th>\n",
       "      <td>the history of russia in the twentieth century...</td>\n",
       "    </tr>\n",
       "    <tr>\n",
       "      <th>4</th>\n",
       "      <td>great divide between soviet east and capitalis...</td>\n",
       "    </tr>\n",
       "    <tr>\n",
       "      <th>5</th>\n",
       "      <td>workers and a cultural straitjacket on the int...</td>\n",
       "    </tr>\n",
       "    <tr>\n",
       "      <th>...</th>\n",
       "      <td>...</td>\n",
       "    </tr>\n",
       "    <tr>\n",
       "      <th>1692</th>\n",
       "      <td>war and women’s position in soviet society  wa...</td>\n",
       "    </tr>\n",
       "    <tr>\n",
       "      <th>1694</th>\n",
       "      <td>while the heroism of women such as the partisa...</td>\n",
       "    </tr>\n",
       "    <tr>\n",
       "      <th>1695</th>\n",
       "      <td>her slender neck is cut by the merciless noose...</td>\n",
       "    </tr>\n",
       "    <tr>\n",
       "      <th>1696</th>\n",
       "      <td>as has been noted, it was not accidental that ...</td>\n",
       "    </tr>\n",
       "    <tr>\n",
       "      <th>1700</th>\n",
       "      <td>the front – not least from other women. some w...</td>\n",
       "    </tr>\n",
       "  </tbody>\n",
       "</table>\n",
       "<p>927 rows × 1 columns</p>\n",
       "</div>"
      ]
     },
     "execution_count": 59,
     "metadata": {},
     "output_type": "execute_result"
    }
   ],
   "execution_count": 59
  },
  {
   "metadata": {
    "ExecuteTime": {
     "end_time": "2025-05-05T19:49:01.976454Z",
     "start_time": "2025-05-05T19:49:01.630943Z"
    }
   },
   "cell_type": "code",
   "source": [
    "\n",
    "nlp = spacy.load(\"en_core_web_sm\")\n",
    "\n",
    "def split_into_windows(text, window_size=3, step=1):\n",
    "    doc = nlp(text)\n",
    "    sentences = [sent.text.strip() for sent in doc.sents if sent.text.strip()]\n",
    "\n",
    "    if len(sentences) < window_size:\n",
    "        return [\" \".join(sentences)]\n",
    "\n",
    "    windows = []\n",
    "    for i in range(0, len(sentences) - window_size + 1, step):\n",
    "        window = \" \".join(sentences[i:i + window_size])\n",
    "        windows.append(window)\n",
    "\n",
    "    return windows\n"
   ],
   "id": "d35f2b98938ee797",
   "outputs": [],
   "execution_count": 60
  },
  {
   "metadata": {
    "ExecuteTime": {
     "end_time": "2025-05-05T19:57:58.471836Z",
     "start_time": "2025-05-05T19:52:27.763616Z"
    }
   },
   "cell_type": "code",
   "source": [
    "chunk_size = [1, 2, 3, 4, 5, 6]\n",
    "\n",
    "with tqdm(chunk_size, desc=\"Chunking\") as pbar:\n",
    "    for size in chunk_size:\n",
    "        pbar.set_postfix({\"size\": size})\n",
    "        all_chunks = []\n",
    "\n",
    "        for text in tqdm(data[\"original_text\"]):\n",
    "            all_chunks.extend(split_into_windows(text, window_size=size))\n",
    "\n",
    "        df_chunks = pd.DataFrame({\"text\": all_chunks})\n",
    "        df_chunks.original_text = df_chunks.text.apply(process_text)\n",
    "        df_chunks.to_csv(f\"../data/chunk_{size}.csv\")\n",
    "        print(f\"size: {size}, shape: {df_chunks.shape}\")\n",
    "        pbar.update(1)\n"
   ],
   "id": "fdd9cf8d173e3ac0",
   "outputs": [
    {
     "data": {
      "text/plain": [
       "Chunking:   0%|          | 0/6 [00:00<?, ?it/s]"
      ],
      "application/vnd.jupyter.widget-view+json": {
       "version_major": 2,
       "version_minor": 0,
       "model_id": "8e37d930252b4cd8beffc48d9fa2bb18"
      }
     },
     "metadata": {},
     "output_type": "display_data"
    },
    {
     "data": {
      "text/plain": [
       "  0%|          | 0/927 [00:00<?, ?it/s]"
      ],
      "application/vnd.jupyter.widget-view+json": {
       "version_major": 2,
       "version_minor": 0,
       "model_id": "6f6f94ed535d4779893da8ba9f42a71c"
      }
     },
     "metadata": {},
     "output_type": "display_data"
    },
    {
     "name": "stdout",
     "output_type": "stream",
     "text": [
      "size: 1, shape: (10029, 1)\n"
     ]
    },
    {
     "data": {
      "text/plain": [
       "  0%|          | 0/927 [00:00<?, ?it/s]"
      ],
      "application/vnd.jupyter.widget-view+json": {
       "version_major": 2,
       "version_minor": 0,
       "model_id": "e5b2544268f34e0ba0828e8489ede0da"
      }
     },
     "metadata": {},
     "output_type": "display_data"
    },
    {
     "name": "stdout",
     "output_type": "stream",
     "text": [
      "size: 2, shape: (9135, 1)\n"
     ]
    },
    {
     "data": {
      "text/plain": [
       "  0%|          | 0/927 [00:00<?, ?it/s]"
      ],
      "application/vnd.jupyter.widget-view+json": {
       "version_major": 2,
       "version_minor": 0,
       "model_id": "ed27a2593d254a88b9f399575ac0617e"
      }
     },
     "metadata": {},
     "output_type": "display_data"
    },
    {
     "name": "stdout",
     "output_type": "stream",
     "text": [
      "size: 3, shape: (8283, 1)\n"
     ]
    },
    {
     "data": {
      "text/plain": [
       "  0%|          | 0/927 [00:00<?, ?it/s]"
      ],
      "application/vnd.jupyter.widget-view+json": {
       "version_major": 2,
       "version_minor": 0,
       "model_id": "9672cad88840496f9ef565ae23c4f9f9"
      }
     },
     "metadata": {},
     "output_type": "display_data"
    },
    {
     "name": "stdout",
     "output_type": "stream",
     "text": [
      "size: 4, shape: (7469, 1)\n"
     ]
    },
    {
     "data": {
      "text/plain": [
       "  0%|          | 0/927 [00:00<?, ?it/s]"
      ],
      "application/vnd.jupyter.widget-view+json": {
       "version_major": 2,
       "version_minor": 0,
       "model_id": "8e95291c387b429babf42bfd52394f4b"
      }
     },
     "metadata": {},
     "output_type": "display_data"
    },
    {
     "name": "stdout",
     "output_type": "stream",
     "text": [
      "size: 5, shape: (6698, 1)\n"
     ]
    },
    {
     "data": {
      "text/plain": [
       "  0%|          | 0/927 [00:00<?, ?it/s]"
      ],
      "application/vnd.jupyter.widget-view+json": {
       "version_major": 2,
       "version_minor": 0,
       "model_id": "e47889e95ad249e28477e448cff4a5f1"
      }
     },
     "metadata": {},
     "output_type": "display_data"
    },
    {
     "name": "stdout",
     "output_type": "stream",
     "text": [
      "size: 6, shape: (5970, 1)\n"
     ]
    }
   ],
   "execution_count": 63
  },
  {
   "metadata": {
    "ExecuteTime": {
     "end_time": "2025-05-05T20:03:54.685760Z",
     "start_time": "2025-05-05T20:01:25.070276Z"
    }
   },
   "cell_type": "code",
   "source": [
    "with tqdm(chunk_size, desc=\"Processing\") as pbar:\n",
    "    for size in chunk_size:\n",
    "        df_chunks = pd.read_csv(f\"../data/chunk_{size}.csv\")\n",
    "        df_chunks = df_chunks.drop(\"Unnamed: 0\", axis=1)\n",
    "        df_chunks[\"len\"] = df_chunks.text.apply(len)\n",
    "        df_chunks[\"punct_count\"] = df_chunks.text.apply(lambda x: len([c for c in x if c in string.punctuation]))\n",
    "        df_chunks[\"numbers_count\"] = df_chunks.text.apply(lambda x: len([c for c in x if c.isdigit()]))\n",
    "        df_chunks[\"word_numbers_count\"] = df_chunks.text.apply(lambda x: len([w for w in x.split() if w.isdigit()]))\n",
    "        df_chunks.text = df_chunks.text.apply(process_text)\n",
    "        df_chunks[\"len_after_prc\"] = df_chunks.text.apply(len)\n",
    "\n",
    "        data_processed_tfidf = vectorizer.transform(df_chunks.text)\n",
    "        data_processed_tfidf = data_processed_tfidf.toarray()\n",
    "\n",
    "        test = np.concatenate(\n",
    "            [\n",
    "                data_processed_tfidf,\n",
    "                df_chunks[columns].to_numpy()\n",
    "            ], axis=1)\n",
    "\n",
    "        labels = model.predict(test)\n",
    "        df_chunks[\"label\"] = labels\n",
    "        print(f\"size: {size}, shape: {df_chunks.shape}\")\n",
    "        df_chunks = df_chunks.loc[df_chunks.label == \"other\"]\n",
    "        print(f\"size: {size}, shape: {df_chunks.shape} (after filtering)\")\n",
    "        df_chunks = df_chunks[[\"text\"]]\n",
    "        df_chunks.text = df_chunks.text.apply(lambda x: x.replace(\"\\n\", \" \").lower())\n",
    "        df_chunks.to_csv(f\"../data/chunk_{size}_processed.csv\", index=False)\n",
    "        pbar.update(1)"
   ],
   "id": "ed8be34195402d23",
   "outputs": [
    {
     "data": {
      "text/plain": [
       "Processing:   0%|          | 0/6 [00:00<?, ?it/s]"
      ],
      "application/vnd.jupyter.widget-view+json": {
       "version_major": 2,
       "version_minor": 0,
       "model_id": "9ed11c0ddb7c4925a8df95b72422abc8"
      }
     },
     "metadata": {},
     "output_type": "display_data"
    },
    {
     "name": "stdout",
     "output_type": "stream",
     "text": [
      "size: 1, shape: (10029, 7)\n",
      "size: 1, shape: (8182, 7) (after filtering)\n",
      "size: 2, shape: (9135, 7)\n",
      "size: 2, shape: (8603, 7) (after filtering)\n",
      "size: 3, shape: (8283, 7)\n",
      "size: 3, shape: (7891, 7) (after filtering)\n",
      "size: 4, shape: (7469, 7)\n",
      "size: 4, shape: (7183, 7) (after filtering)\n",
      "size: 5, shape: (6698, 7)\n",
      "size: 5, shape: (6487, 7) (after filtering)\n",
      "size: 6, shape: (5970, 7)\n",
      "size: 6, shape: (5803, 7) (after filtering)\n"
     ]
    }
   ],
   "execution_count": 67
  },
  {
   "metadata": {},
   "cell_type": "code",
   "outputs": [],
   "execution_count": null,
   "source": "",
   "id": "f203989d35053455"
  }
 ],
 "metadata": {
  "kernelspec": {
   "display_name": "Python 3",
   "language": "python",
   "name": "python3"
  },
  "language_info": {
   "codemirror_mode": {
    "name": "ipython",
    "version": 2
   },
   "file_extension": ".py",
   "mimetype": "text/x-python",
   "name": "python",
   "nbconvert_exporter": "python",
   "pygments_lexer": "ipython2",
   "version": "2.7.6"
  }
 },
 "nbformat": 4,
 "nbformat_minor": 5
}
